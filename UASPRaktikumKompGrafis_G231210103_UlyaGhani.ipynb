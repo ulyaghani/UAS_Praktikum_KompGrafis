{
  "nbformat": 4,
  "nbformat_minor": 0,
  "metadata": {
    "colab": {
      "provenance": []
    },
    "kernelspec": {
      "name": "python3",
      "display_name": "Python 3"
    },
    "language_info": {
      "name": "python"
    }
  },
  "cells": [
    {
      "cell_type": "markdown",
      "source": [
        "\n",
        "\n",
        "```\n",
        "# UAS PRAKTIKUM KOMPUTER GRAFIS\n",
        "Nama: Ulya Ghani\n",
        "NIM: G.231.21.0103\n",
        "Progdi: S1 Teknik Informatika\n",
        "\n"
      ],
      "metadata": {
        "id": "LUncODyUbmwJ"
      }
    },
    {
      "cell_type": "code",
      "execution_count": 8,
      "metadata": {
        "id": "reYBdBZVTGVp"
      },
      "outputs": [],
      "source": [
        "#import library for analis data\n",
        "\n",
        "import pandas as pd\n",
        "import numpy as np\n",
        "import matplotlib.pyplot as plt\n",
        "import seaborn as sns"
      ]
    },
    {
      "cell_type": "code",
      "source": [
        "pip install -U seaborn"
      ],
      "metadata": {
        "colab": {
          "base_uri": "https://localhost:8080/"
        },
        "id": "KcQDqC6XUaa0",
        "outputId": "606c65ed-b17b-4aab-f04e-dda46c78a076"
      },
      "execution_count": 9,
      "outputs": [
        {
          "output_type": "stream",
          "name": "stdout",
          "text": [
            "Requirement already satisfied: seaborn in /usr/local/lib/python3.10/dist-packages (0.12.2)\n",
            "Requirement already satisfied: numpy!=1.24.0,>=1.17 in /usr/local/lib/python3.10/dist-packages (from seaborn) (1.22.4)\n",
            "Requirement already satisfied: pandas>=0.25 in /usr/local/lib/python3.10/dist-packages (from seaborn) (1.5.3)\n",
            "Requirement already satisfied: matplotlib!=3.6.1,>=3.1 in /usr/local/lib/python3.10/dist-packages (from seaborn) (3.7.1)\n",
            "Requirement already satisfied: contourpy>=1.0.1 in /usr/local/lib/python3.10/dist-packages (from matplotlib!=3.6.1,>=3.1->seaborn) (1.1.0)\n",
            "Requirement already satisfied: cycler>=0.10 in /usr/local/lib/python3.10/dist-packages (from matplotlib!=3.6.1,>=3.1->seaborn) (0.11.0)\n",
            "Requirement already satisfied: fonttools>=4.22.0 in /usr/local/lib/python3.10/dist-packages (from matplotlib!=3.6.1,>=3.1->seaborn) (4.40.0)\n",
            "Requirement already satisfied: kiwisolver>=1.0.1 in /usr/local/lib/python3.10/dist-packages (from matplotlib!=3.6.1,>=3.1->seaborn) (1.4.4)\n",
            "Requirement already satisfied: packaging>=20.0 in /usr/local/lib/python3.10/dist-packages (from matplotlib!=3.6.1,>=3.1->seaborn) (23.1)\n",
            "Requirement already satisfied: pillow>=6.2.0 in /usr/local/lib/python3.10/dist-packages (from matplotlib!=3.6.1,>=3.1->seaborn) (8.4.0)\n",
            "Requirement already satisfied: pyparsing>=2.3.1 in /usr/local/lib/python3.10/dist-packages (from matplotlib!=3.6.1,>=3.1->seaborn) (3.1.0)\n",
            "Requirement already satisfied: python-dateutil>=2.7 in /usr/local/lib/python3.10/dist-packages (from matplotlib!=3.6.1,>=3.1->seaborn) (2.8.2)\n",
            "Requirement already satisfied: pytz>=2020.1 in /usr/local/lib/python3.10/dist-packages (from pandas>=0.25->seaborn) (2022.7.1)\n",
            "Requirement already satisfied: six>=1.5 in /usr/local/lib/python3.10/dist-packages (from python-dateutil>=2.7->matplotlib!=3.6.1,>=3.1->seaborn) (1.16.0)\n"
          ]
        }
      ]
    },
    {
      "cell_type": "code",
      "source": [
        "#Import Data dari File Manager Kita\n",
        "from google.colab import files\n",
        "uploaded = files.upload()"
      ],
      "metadata": {
        "colab": {
          "base_uri": "https://localhost:8080/",
          "height": 73
        },
        "id": "ZK24flpuUcUc",
        "outputId": "4727a2ba-ff32-4091-8b9d-c959be3ccf8f"
      },
      "execution_count": 10,
      "outputs": [
        {
          "output_type": "display_data",
          "data": {
            "text/plain": [
              "<IPython.core.display.HTML object>"
            ],
            "text/html": [
              "\n",
              "     <input type=\"file\" id=\"files-929f34c3-c124-48b6-9bec-a628ed5ab481\" name=\"files[]\" multiple disabled\n",
              "        style=\"border:none\" />\n",
              "     <output id=\"result-929f34c3-c124-48b6-9bec-a628ed5ab481\">\n",
              "      Upload widget is only available when the cell has been executed in the\n",
              "      current browser session. Please rerun this cell to enable.\n",
              "      </output>\n",
              "      <script>// Copyright 2017 Google LLC\n",
              "//\n",
              "// Licensed under the Apache License, Version 2.0 (the \"License\");\n",
              "// you may not use this file except in compliance with the License.\n",
              "// You may obtain a copy of the License at\n",
              "//\n",
              "//      http://www.apache.org/licenses/LICENSE-2.0\n",
              "//\n",
              "// Unless required by applicable law or agreed to in writing, software\n",
              "// distributed under the License is distributed on an \"AS IS\" BASIS,\n",
              "// WITHOUT WARRANTIES OR CONDITIONS OF ANY KIND, either express or implied.\n",
              "// See the License for the specific language governing permissions and\n",
              "// limitations under the License.\n",
              "\n",
              "/**\n",
              " * @fileoverview Helpers for google.colab Python module.\n",
              " */\n",
              "(function(scope) {\n",
              "function span(text, styleAttributes = {}) {\n",
              "  const element = document.createElement('span');\n",
              "  element.textContent = text;\n",
              "  for (const key of Object.keys(styleAttributes)) {\n",
              "    element.style[key] = styleAttributes[key];\n",
              "  }\n",
              "  return element;\n",
              "}\n",
              "\n",
              "// Max number of bytes which will be uploaded at a time.\n",
              "const MAX_PAYLOAD_SIZE = 100 * 1024;\n",
              "\n",
              "function _uploadFiles(inputId, outputId) {\n",
              "  const steps = uploadFilesStep(inputId, outputId);\n",
              "  const outputElement = document.getElementById(outputId);\n",
              "  // Cache steps on the outputElement to make it available for the next call\n",
              "  // to uploadFilesContinue from Python.\n",
              "  outputElement.steps = steps;\n",
              "\n",
              "  return _uploadFilesContinue(outputId);\n",
              "}\n",
              "\n",
              "// This is roughly an async generator (not supported in the browser yet),\n",
              "// where there are multiple asynchronous steps and the Python side is going\n",
              "// to poll for completion of each step.\n",
              "// This uses a Promise to block the python side on completion of each step,\n",
              "// then passes the result of the previous step as the input to the next step.\n",
              "function _uploadFilesContinue(outputId) {\n",
              "  const outputElement = document.getElementById(outputId);\n",
              "  const steps = outputElement.steps;\n",
              "\n",
              "  const next = steps.next(outputElement.lastPromiseValue);\n",
              "  return Promise.resolve(next.value.promise).then((value) => {\n",
              "    // Cache the last promise value to make it available to the next\n",
              "    // step of the generator.\n",
              "    outputElement.lastPromiseValue = value;\n",
              "    return next.value.response;\n",
              "  });\n",
              "}\n",
              "\n",
              "/**\n",
              " * Generator function which is called between each async step of the upload\n",
              " * process.\n",
              " * @param {string} inputId Element ID of the input file picker element.\n",
              " * @param {string} outputId Element ID of the output display.\n",
              " * @return {!Iterable<!Object>} Iterable of next steps.\n",
              " */\n",
              "function* uploadFilesStep(inputId, outputId) {\n",
              "  const inputElement = document.getElementById(inputId);\n",
              "  inputElement.disabled = false;\n",
              "\n",
              "  const outputElement = document.getElementById(outputId);\n",
              "  outputElement.innerHTML = '';\n",
              "\n",
              "  const pickedPromise = new Promise((resolve) => {\n",
              "    inputElement.addEventListener('change', (e) => {\n",
              "      resolve(e.target.files);\n",
              "    });\n",
              "  });\n",
              "\n",
              "  const cancel = document.createElement('button');\n",
              "  inputElement.parentElement.appendChild(cancel);\n",
              "  cancel.textContent = 'Cancel upload';\n",
              "  const cancelPromise = new Promise((resolve) => {\n",
              "    cancel.onclick = () => {\n",
              "      resolve(null);\n",
              "    };\n",
              "  });\n",
              "\n",
              "  // Wait for the user to pick the files.\n",
              "  const files = yield {\n",
              "    promise: Promise.race([pickedPromise, cancelPromise]),\n",
              "    response: {\n",
              "      action: 'starting',\n",
              "    }\n",
              "  };\n",
              "\n",
              "  cancel.remove();\n",
              "\n",
              "  // Disable the input element since further picks are not allowed.\n",
              "  inputElement.disabled = true;\n",
              "\n",
              "  if (!files) {\n",
              "    return {\n",
              "      response: {\n",
              "        action: 'complete',\n",
              "      }\n",
              "    };\n",
              "  }\n",
              "\n",
              "  for (const file of files) {\n",
              "    const li = document.createElement('li');\n",
              "    li.append(span(file.name, {fontWeight: 'bold'}));\n",
              "    li.append(span(\n",
              "        `(${file.type || 'n/a'}) - ${file.size} bytes, ` +\n",
              "        `last modified: ${\n",
              "            file.lastModifiedDate ? file.lastModifiedDate.toLocaleDateString() :\n",
              "                                    'n/a'} - `));\n",
              "    const percent = span('0% done');\n",
              "    li.appendChild(percent);\n",
              "\n",
              "    outputElement.appendChild(li);\n",
              "\n",
              "    const fileDataPromise = new Promise((resolve) => {\n",
              "      const reader = new FileReader();\n",
              "      reader.onload = (e) => {\n",
              "        resolve(e.target.result);\n",
              "      };\n",
              "      reader.readAsArrayBuffer(file);\n",
              "    });\n",
              "    // Wait for the data to be ready.\n",
              "    let fileData = yield {\n",
              "      promise: fileDataPromise,\n",
              "      response: {\n",
              "        action: 'continue',\n",
              "      }\n",
              "    };\n",
              "\n",
              "    // Use a chunked sending to avoid message size limits. See b/62115660.\n",
              "    let position = 0;\n",
              "    do {\n",
              "      const length = Math.min(fileData.byteLength - position, MAX_PAYLOAD_SIZE);\n",
              "      const chunk = new Uint8Array(fileData, position, length);\n",
              "      position += length;\n",
              "\n",
              "      const base64 = btoa(String.fromCharCode.apply(null, chunk));\n",
              "      yield {\n",
              "        response: {\n",
              "          action: 'append',\n",
              "          file: file.name,\n",
              "          data: base64,\n",
              "        },\n",
              "      };\n",
              "\n",
              "      let percentDone = fileData.byteLength === 0 ?\n",
              "          100 :\n",
              "          Math.round((position / fileData.byteLength) * 100);\n",
              "      percent.textContent = `${percentDone}% done`;\n",
              "\n",
              "    } while (position < fileData.byteLength);\n",
              "  }\n",
              "\n",
              "  // All done.\n",
              "  yield {\n",
              "    response: {\n",
              "      action: 'complete',\n",
              "    }\n",
              "  };\n",
              "}\n",
              "\n",
              "scope.google = scope.google || {};\n",
              "scope.google.colab = scope.google.colab || {};\n",
              "scope.google.colab._files = {\n",
              "  _uploadFiles,\n",
              "  _uploadFilesContinue,\n",
              "};\n",
              "})(self);\n",
              "</script> "
            ]
          },
          "metadata": {}
        },
        {
          "output_type": "stream",
          "name": "stdout",
          "text": [
            "Saving Stock.csv to Stock.csv\n"
          ]
        }
      ]
    },
    {
      "cell_type": "code",
      "source": [
        "#Membaca Data Dari Google Drive\n",
        "\n",
        "from google.colab import drive\n",
        "drive.mount('/content/gdrive')"
      ],
      "metadata": {
        "colab": {
          "base_uri": "https://localhost:8080/"
        },
        "id": "ysgPcD9IU-8J",
        "outputId": "d6cb3ac2-9d4c-4a75-8573-6a1ed4e33cd3"
      },
      "execution_count": 14,
      "outputs": [
        {
          "output_type": "stream",
          "name": "stdout",
          "text": [
            "Mounted at /content/gdrive\n"
          ]
        }
      ]
    },
    {
      "cell_type": "code",
      "source": [
        "%cd /content/gdrive/MyDrive/Tugas Kuliah/Semester 4/Komputer Grafis/ UAS Praktikum"
      ],
      "metadata": {
        "colab": {
          "base_uri": "https://localhost:8080/"
        },
        "id": "R71jKE7eVBJx",
        "outputId": "9ae7ef90-b124-43f6-83f4-a9df5fd19214"
      },
      "execution_count": 26,
      "outputs": [
        {
          "output_type": "stream",
          "name": "stdout",
          "text": [
            "[Errno 2] No such file or directory: '/content/gdrive/MyDrive/Tugas Kuliah/Semester 4/Komputer Grafis/ UAS Praktikum'\n",
            "/content\n"
          ]
        }
      ]
    },
    {
      "cell_type": "code",
      "source": [
        "# Load Dataset\n",
        "\n",
        "data = pd.read_csv('Stock.csv')\n",
        "data.head()"
      ],
      "metadata": {
        "colab": {
          "base_uri": "https://localhost:8080/",
          "height": 206
        },
        "id": "y7_01hR3VDqX",
        "outputId": "800635c5-ca68-48bb-a611-314531ba3e6b"
      },
      "execution_count": 16,
      "outputs": [
        {
          "output_type": "execute_result",
          "data": {
            "text/plain": [
              "                   Stock Name Symbol  Shares  Purchase Price ($)  \\\n",
              "0                       Apple   AAPL     100                90.0   \n",
              "1                   Microsoft   MSFT     200                32.0   \n",
              "2                  Salesforce    CRM     150                25.0   \n",
              "3                      Oracle   ORCL     250                50.0   \n",
              "4  Hewlett Packard Enterprise    HPE     500                18.0   \n",
              "\n",
              "   Cost Basis ($)  Current Price ($)  Market Value ($)  Gain/Loss ($)  \\\n",
              "0          9000.0             144.33          14413.27       14269.14   \n",
              "1          6400.0              65.57          13114.14       13048.57   \n",
              "2          3750.0              82.57          12385.50       12302.93   \n",
              "3         12500.0              44.56          11138.75       11094.20   \n",
              "4          9000.0              17.69           8842.50        8824.82   \n",
              "\n",
              "   Dividend/Shares  Annual Yield (%)  \n",
              "0             2.28              0.02  \n",
              "1             1.56              0.02  \n",
              "2             0.00              0.00  \n",
              "3             0.64              0.01  \n",
              "4             0.26              0.01  "
            ],
            "text/html": [
              "\n",
              "  <div id=\"df-3e89bc1f-8a46-4dd3-bec4-8270bd54ce31\">\n",
              "    <div class=\"colab-df-container\">\n",
              "      <div>\n",
              "<style scoped>\n",
              "    .dataframe tbody tr th:only-of-type {\n",
              "        vertical-align: middle;\n",
              "    }\n",
              "\n",
              "    .dataframe tbody tr th {\n",
              "        vertical-align: top;\n",
              "    }\n",
              "\n",
              "    .dataframe thead th {\n",
              "        text-align: right;\n",
              "    }\n",
              "</style>\n",
              "<table border=\"1\" class=\"dataframe\">\n",
              "  <thead>\n",
              "    <tr style=\"text-align: right;\">\n",
              "      <th></th>\n",
              "      <th>Stock Name</th>\n",
              "      <th>Symbol</th>\n",
              "      <th>Shares</th>\n",
              "      <th>Purchase Price ($)</th>\n",
              "      <th>Cost Basis ($)</th>\n",
              "      <th>Current Price ($)</th>\n",
              "      <th>Market Value ($)</th>\n",
              "      <th>Gain/Loss ($)</th>\n",
              "      <th>Dividend/Shares</th>\n",
              "      <th>Annual Yield (%)</th>\n",
              "    </tr>\n",
              "  </thead>\n",
              "  <tbody>\n",
              "    <tr>\n",
              "      <th>0</th>\n",
              "      <td>Apple</td>\n",
              "      <td>AAPL</td>\n",
              "      <td>100</td>\n",
              "      <td>90.0</td>\n",
              "      <td>9000.0</td>\n",
              "      <td>144.33</td>\n",
              "      <td>14413.27</td>\n",
              "      <td>14269.14</td>\n",
              "      <td>2.28</td>\n",
              "      <td>0.02</td>\n",
              "    </tr>\n",
              "    <tr>\n",
              "      <th>1</th>\n",
              "      <td>Microsoft</td>\n",
              "      <td>MSFT</td>\n",
              "      <td>200</td>\n",
              "      <td>32.0</td>\n",
              "      <td>6400.0</td>\n",
              "      <td>65.57</td>\n",
              "      <td>13114.14</td>\n",
              "      <td>13048.57</td>\n",
              "      <td>1.56</td>\n",
              "      <td>0.02</td>\n",
              "    </tr>\n",
              "    <tr>\n",
              "      <th>2</th>\n",
              "      <td>Salesforce</td>\n",
              "      <td>CRM</td>\n",
              "      <td>150</td>\n",
              "      <td>25.0</td>\n",
              "      <td>3750.0</td>\n",
              "      <td>82.57</td>\n",
              "      <td>12385.50</td>\n",
              "      <td>12302.93</td>\n",
              "      <td>0.00</td>\n",
              "      <td>0.00</td>\n",
              "    </tr>\n",
              "    <tr>\n",
              "      <th>3</th>\n",
              "      <td>Oracle</td>\n",
              "      <td>ORCL</td>\n",
              "      <td>250</td>\n",
              "      <td>50.0</td>\n",
              "      <td>12500.0</td>\n",
              "      <td>44.56</td>\n",
              "      <td>11138.75</td>\n",
              "      <td>11094.20</td>\n",
              "      <td>0.64</td>\n",
              "      <td>0.01</td>\n",
              "    </tr>\n",
              "    <tr>\n",
              "      <th>4</th>\n",
              "      <td>Hewlett Packard Enterprise</td>\n",
              "      <td>HPE</td>\n",
              "      <td>500</td>\n",
              "      <td>18.0</td>\n",
              "      <td>9000.0</td>\n",
              "      <td>17.69</td>\n",
              "      <td>8842.50</td>\n",
              "      <td>8824.82</td>\n",
              "      <td>0.26</td>\n",
              "      <td>0.01</td>\n",
              "    </tr>\n",
              "  </tbody>\n",
              "</table>\n",
              "</div>\n",
              "      <button class=\"colab-df-convert\" onclick=\"convertToInteractive('df-3e89bc1f-8a46-4dd3-bec4-8270bd54ce31')\"\n",
              "              title=\"Convert this dataframe to an interactive table.\"\n",
              "              style=\"display:none;\">\n",
              "        \n",
              "  <svg xmlns=\"http://www.w3.org/2000/svg\" height=\"24px\"viewBox=\"0 0 24 24\"\n",
              "       width=\"24px\">\n",
              "    <path d=\"M0 0h24v24H0V0z\" fill=\"none\"/>\n",
              "    <path d=\"M18.56 5.44l.94 2.06.94-2.06 2.06-.94-2.06-.94-.94-2.06-.94 2.06-2.06.94zm-11 1L8.5 8.5l.94-2.06 2.06-.94-2.06-.94L8.5 2.5l-.94 2.06-2.06.94zm10 10l.94 2.06.94-2.06 2.06-.94-2.06-.94-.94-2.06-.94 2.06-2.06.94z\"/><path d=\"M17.41 7.96l-1.37-1.37c-.4-.4-.92-.59-1.43-.59-.52 0-1.04.2-1.43.59L10.3 9.45l-7.72 7.72c-.78.78-.78 2.05 0 2.83L4 21.41c.39.39.9.59 1.41.59.51 0 1.02-.2 1.41-.59l7.78-7.78 2.81-2.81c.8-.78.8-2.07 0-2.86zM5.41 20L4 18.59l7.72-7.72 1.47 1.35L5.41 20z\"/>\n",
              "  </svg>\n",
              "      </button>\n",
              "      \n",
              "  <style>\n",
              "    .colab-df-container {\n",
              "      display:flex;\n",
              "      flex-wrap:wrap;\n",
              "      gap: 12px;\n",
              "    }\n",
              "\n",
              "    .colab-df-convert {\n",
              "      background-color: #E8F0FE;\n",
              "      border: none;\n",
              "      border-radius: 50%;\n",
              "      cursor: pointer;\n",
              "      display: none;\n",
              "      fill: #1967D2;\n",
              "      height: 32px;\n",
              "      padding: 0 0 0 0;\n",
              "      width: 32px;\n",
              "    }\n",
              "\n",
              "    .colab-df-convert:hover {\n",
              "      background-color: #E2EBFA;\n",
              "      box-shadow: 0px 1px 2px rgba(60, 64, 67, 0.3), 0px 1px 3px 1px rgba(60, 64, 67, 0.15);\n",
              "      fill: #174EA6;\n",
              "    }\n",
              "\n",
              "    [theme=dark] .colab-df-convert {\n",
              "      background-color: #3B4455;\n",
              "      fill: #D2E3FC;\n",
              "    }\n",
              "\n",
              "    [theme=dark] .colab-df-convert:hover {\n",
              "      background-color: #434B5C;\n",
              "      box-shadow: 0px 1px 3px 1px rgba(0, 0, 0, 0.15);\n",
              "      filter: drop-shadow(0px 1px 2px rgba(0, 0, 0, 0.3));\n",
              "      fill: #FFFFFF;\n",
              "    }\n",
              "  </style>\n",
              "\n",
              "      <script>\n",
              "        const buttonEl =\n",
              "          document.querySelector('#df-3e89bc1f-8a46-4dd3-bec4-8270bd54ce31 button.colab-df-convert');\n",
              "        buttonEl.style.display =\n",
              "          google.colab.kernel.accessAllowed ? 'block' : 'none';\n",
              "\n",
              "        async function convertToInteractive(key) {\n",
              "          const element = document.querySelector('#df-3e89bc1f-8a46-4dd3-bec4-8270bd54ce31');\n",
              "          const dataTable =\n",
              "            await google.colab.kernel.invokeFunction('convertToInteractive',\n",
              "                                                     [key], {});\n",
              "          if (!dataTable) return;\n",
              "\n",
              "          const docLinkHtml = 'Like what you see? Visit the ' +\n",
              "            '<a target=\"_blank\" href=https://colab.research.google.com/notebooks/data_table.ipynb>data table notebook</a>'\n",
              "            + ' to learn more about interactive tables.';\n",
              "          element.innerHTML = '';\n",
              "          dataTable['output_type'] = 'display_data';\n",
              "          await google.colab.output.renderOutput(dataTable, element);\n",
              "          const docLink = document.createElement('div');\n",
              "          docLink.innerHTML = docLinkHtml;\n",
              "          element.appendChild(docLink);\n",
              "        }\n",
              "      </script>\n",
              "    </div>\n",
              "  </div>\n",
              "  "
            ]
          },
          "metadata": {},
          "execution_count": 16
        }
      ]
    },
    {
      "cell_type": "code",
      "source": [
        "data.tail()"
      ],
      "metadata": {
        "colab": {
          "base_uri": "https://localhost:8080/",
          "height": 206
        },
        "id": "v-5EHacRZdxE",
        "outputId": "3e093509-85ca-40ad-c845-c5c2dc356a58"
      },
      "execution_count": 17,
      "outputs": [
        {
          "output_type": "execute_result",
          "data": {
            "text/plain": [
              "   Stock Name Symbol  Shares  Purchase Price ($)  Cost Basis ($)  \\\n",
              "8    Qualcomm   QCOM     185                65.0         12025.0   \n",
              "9      Amazon   AMZN      50               800.0         40000.0   \n",
              "10     Redhat    RHT     100                95.0          9500.0   \n",
              "11   Facebook     FB    1000                17.0         17000.0   \n",
              "12    Twitter   TWTR     500                45.0         22500.0   \n",
              "\n",
              "    Current Price ($)  Market Value ($)  Gain/Loss ($)  Dividend/Shares  \\\n",
              "8               56.48          10447.88       10391.40             2.12   \n",
              "9              897.64          44882.00       43984.36             0.00   \n",
              "10              86.26           8626.00        8539.74             0.00   \n",
              "11             141.64         141640.00      141498.36             0.00   \n",
              "12              14.61           7302.55        7287.94             0.00   \n",
              "\n",
              "    Annual Yield (%)  \n",
              "8               0.04  \n",
              "9               0.00  \n",
              "10              0.00  \n",
              "11              0.00  \n",
              "12              0.00  "
            ],
            "text/html": [
              "\n",
              "  <div id=\"df-c5dc65a6-81b2-40d7-8705-0ac8748ccea5\">\n",
              "    <div class=\"colab-df-container\">\n",
              "      <div>\n",
              "<style scoped>\n",
              "    .dataframe tbody tr th:only-of-type {\n",
              "        vertical-align: middle;\n",
              "    }\n",
              "\n",
              "    .dataframe tbody tr th {\n",
              "        vertical-align: top;\n",
              "    }\n",
              "\n",
              "    .dataframe thead th {\n",
              "        text-align: right;\n",
              "    }\n",
              "</style>\n",
              "<table border=\"1\" class=\"dataframe\">\n",
              "  <thead>\n",
              "    <tr style=\"text-align: right;\">\n",
              "      <th></th>\n",
              "      <th>Stock Name</th>\n",
              "      <th>Symbol</th>\n",
              "      <th>Shares</th>\n",
              "      <th>Purchase Price ($)</th>\n",
              "      <th>Cost Basis ($)</th>\n",
              "      <th>Current Price ($)</th>\n",
              "      <th>Market Value ($)</th>\n",
              "      <th>Gain/Loss ($)</th>\n",
              "      <th>Dividend/Shares</th>\n",
              "      <th>Annual Yield (%)</th>\n",
              "    </tr>\n",
              "  </thead>\n",
              "  <tbody>\n",
              "    <tr>\n",
              "      <th>8</th>\n",
              "      <td>Qualcomm</td>\n",
              "      <td>QCOM</td>\n",
              "      <td>185</td>\n",
              "      <td>65.0</td>\n",
              "      <td>12025.0</td>\n",
              "      <td>56.48</td>\n",
              "      <td>10447.88</td>\n",
              "      <td>10391.40</td>\n",
              "      <td>2.12</td>\n",
              "      <td>0.04</td>\n",
              "    </tr>\n",
              "    <tr>\n",
              "      <th>9</th>\n",
              "      <td>Amazon</td>\n",
              "      <td>AMZN</td>\n",
              "      <td>50</td>\n",
              "      <td>800.0</td>\n",
              "      <td>40000.0</td>\n",
              "      <td>897.64</td>\n",
              "      <td>44882.00</td>\n",
              "      <td>43984.36</td>\n",
              "      <td>0.00</td>\n",
              "      <td>0.00</td>\n",
              "    </tr>\n",
              "    <tr>\n",
              "      <th>10</th>\n",
              "      <td>Redhat</td>\n",
              "      <td>RHT</td>\n",
              "      <td>100</td>\n",
              "      <td>95.0</td>\n",
              "      <td>9500.0</td>\n",
              "      <td>86.26</td>\n",
              "      <td>8626.00</td>\n",
              "      <td>8539.74</td>\n",
              "      <td>0.00</td>\n",
              "      <td>0.00</td>\n",
              "    </tr>\n",
              "    <tr>\n",
              "      <th>11</th>\n",
              "      <td>Facebook</td>\n",
              "      <td>FB</td>\n",
              "      <td>1000</td>\n",
              "      <td>17.0</td>\n",
              "      <td>17000.0</td>\n",
              "      <td>141.64</td>\n",
              "      <td>141640.00</td>\n",
              "      <td>141498.36</td>\n",
              "      <td>0.00</td>\n",
              "      <td>0.00</td>\n",
              "    </tr>\n",
              "    <tr>\n",
              "      <th>12</th>\n",
              "      <td>Twitter</td>\n",
              "      <td>TWTR</td>\n",
              "      <td>500</td>\n",
              "      <td>45.0</td>\n",
              "      <td>22500.0</td>\n",
              "      <td>14.61</td>\n",
              "      <td>7302.55</td>\n",
              "      <td>7287.94</td>\n",
              "      <td>0.00</td>\n",
              "      <td>0.00</td>\n",
              "    </tr>\n",
              "  </tbody>\n",
              "</table>\n",
              "</div>\n",
              "      <button class=\"colab-df-convert\" onclick=\"convertToInteractive('df-c5dc65a6-81b2-40d7-8705-0ac8748ccea5')\"\n",
              "              title=\"Convert this dataframe to an interactive table.\"\n",
              "              style=\"display:none;\">\n",
              "        \n",
              "  <svg xmlns=\"http://www.w3.org/2000/svg\" height=\"24px\"viewBox=\"0 0 24 24\"\n",
              "       width=\"24px\">\n",
              "    <path d=\"M0 0h24v24H0V0z\" fill=\"none\"/>\n",
              "    <path d=\"M18.56 5.44l.94 2.06.94-2.06 2.06-.94-2.06-.94-.94-2.06-.94 2.06-2.06.94zm-11 1L8.5 8.5l.94-2.06 2.06-.94-2.06-.94L8.5 2.5l-.94 2.06-2.06.94zm10 10l.94 2.06.94-2.06 2.06-.94-2.06-.94-.94-2.06-.94 2.06-2.06.94z\"/><path d=\"M17.41 7.96l-1.37-1.37c-.4-.4-.92-.59-1.43-.59-.52 0-1.04.2-1.43.59L10.3 9.45l-7.72 7.72c-.78.78-.78 2.05 0 2.83L4 21.41c.39.39.9.59 1.41.59.51 0 1.02-.2 1.41-.59l7.78-7.78 2.81-2.81c.8-.78.8-2.07 0-2.86zM5.41 20L4 18.59l7.72-7.72 1.47 1.35L5.41 20z\"/>\n",
              "  </svg>\n",
              "      </button>\n",
              "      \n",
              "  <style>\n",
              "    .colab-df-container {\n",
              "      display:flex;\n",
              "      flex-wrap:wrap;\n",
              "      gap: 12px;\n",
              "    }\n",
              "\n",
              "    .colab-df-convert {\n",
              "      background-color: #E8F0FE;\n",
              "      border: none;\n",
              "      border-radius: 50%;\n",
              "      cursor: pointer;\n",
              "      display: none;\n",
              "      fill: #1967D2;\n",
              "      height: 32px;\n",
              "      padding: 0 0 0 0;\n",
              "      width: 32px;\n",
              "    }\n",
              "\n",
              "    .colab-df-convert:hover {\n",
              "      background-color: #E2EBFA;\n",
              "      box-shadow: 0px 1px 2px rgba(60, 64, 67, 0.3), 0px 1px 3px 1px rgba(60, 64, 67, 0.15);\n",
              "      fill: #174EA6;\n",
              "    }\n",
              "\n",
              "    [theme=dark] .colab-df-convert {\n",
              "      background-color: #3B4455;\n",
              "      fill: #D2E3FC;\n",
              "    }\n",
              "\n",
              "    [theme=dark] .colab-df-convert:hover {\n",
              "      background-color: #434B5C;\n",
              "      box-shadow: 0px 1px 3px 1px rgba(0, 0, 0, 0.15);\n",
              "      filter: drop-shadow(0px 1px 2px rgba(0, 0, 0, 0.3));\n",
              "      fill: #FFFFFF;\n",
              "    }\n",
              "  </style>\n",
              "\n",
              "      <script>\n",
              "        const buttonEl =\n",
              "          document.querySelector('#df-c5dc65a6-81b2-40d7-8705-0ac8748ccea5 button.colab-df-convert');\n",
              "        buttonEl.style.display =\n",
              "          google.colab.kernel.accessAllowed ? 'block' : 'none';\n",
              "\n",
              "        async function convertToInteractive(key) {\n",
              "          const element = document.querySelector('#df-c5dc65a6-81b2-40d7-8705-0ac8748ccea5');\n",
              "          const dataTable =\n",
              "            await google.colab.kernel.invokeFunction('convertToInteractive',\n",
              "                                                     [key], {});\n",
              "          if (!dataTable) return;\n",
              "\n",
              "          const docLinkHtml = 'Like what you see? Visit the ' +\n",
              "            '<a target=\"_blank\" href=https://colab.research.google.com/notebooks/data_table.ipynb>data table notebook</a>'\n",
              "            + ' to learn more about interactive tables.';\n",
              "          element.innerHTML = '';\n",
              "          dataTable['output_type'] = 'display_data';\n",
              "          await google.colab.output.renderOutput(dataTable, element);\n",
              "          const docLink = document.createElement('div');\n",
              "          docLink.innerHTML = docLinkHtml;\n",
              "          element.appendChild(docLink);\n",
              "        }\n",
              "      </script>\n",
              "    </div>\n",
              "  </div>\n",
              "  "
            ]
          },
          "metadata": {},
          "execution_count": 17
        }
      ]
    },
    {
      "cell_type": "code",
      "source": [
        "#A\n",
        "#Distribusi data pada setiap atribut Purchase Price, Current Price, dan Gain/Loss dengan grafik histogram\n",
        "plt.figure(figsize=(10, 6))\n",
        "\n",
        "plt.subplot(1, 3, 1)\n",
        "sns.histplot(data['Purchase Price ($)'], kde=True, bins=10, edgecolor='g', color=\"g\")\n",
        "plt.xlabel('Purchase Price')\n",
        "plt.ylabel('Frequency')\n",
        "plt.title('Histogram Purchase Price')\n",
        "\n",
        "plt.subplot(1, 3, 2)\n",
        "sns.histplot(data['Current Price ($)'], kde=True, bins=10, edgecolor='b', color=\"b\")\n",
        "plt.xlabel('Current Price')\n",
        "plt.ylabel('Frequency')\n",
        "plt.title('Histogram Current Price')\n",
        "\n",
        "plt.subplot(1, 3, 3)\n",
        "sns.histplot(data['Gain/Loss ($)'], kde=True, bins=10, edgecolor='r', color=\"r\")\n",
        "plt.xlabel('Gain/Loss')\n",
        "plt.ylabel('Frequency')\n",
        "plt.title('Histogram Gain/Loss')\n",
        "\n",
        "plt.tight_layout()\n",
        "plt.show()"
      ],
      "metadata": {
        "colab": {
          "base_uri": "https://localhost:8080/",
          "height": 607
        },
        "id": "tcdTaXgDZjvY",
        "outputId": "f5e2dbea-2a34-47e6-d183-def1ea733d53"
      },
      "execution_count": 38,
      "outputs": [
        {
          "output_type": "display_data",
          "data": {
            "text/plain": [
              "<Figure size 1000x600 with 3 Axes>"
            ],
            "image/png": "[encoded data removed]"
          },
          "metadata": {}
        }
      ]
    },
    {
      "cell_type": "code",
      "source": [
        "#B\n",
        "#Atribut Stock Name dan Symbol yang memiliki Dividen / Share 5 tertinggi\n",
        "top_dividends = data.nlargest (5, 'Dividend/Shares')[['Stock Name', 'Symbol']]\n",
        "print('Atribut Stock Name dan Symbol dengan Dividen / Share 5 tertinggi:')\n",
        "print(top_dividends)"
      ],
      "metadata": {
        "colab": {
          "base_uri": "https://localhost:8080/"
        },
        "id": "do8RdHevZmBO",
        "outputId": "c37a5cb1-bf2e-40b0-ad65-d5549fba77ad"
      },
      "execution_count": 39,
      "outputs": [
        {
          "output_type": "stream",
          "name": "stdout",
          "text": [
            "Atribut Stock Name dan Symbol dengan Dividen / Share 5 tertinggi:\n",
            "  Stock Name Symbol\n",
            "0      Apple   AAPL\n",
            "8   Qualcomm   QCOM\n",
            "1  Microsoft   MSFT\n",
            "7      Cisco   CSCO\n",
            "6      Intel   INTC\n"
          ]
        }
      ]
    },
    {
      "cell_type": "code",
      "source": [
        "top_dividends = data.nlargest (5, 'Dividend/Shares')\n",
        "# Plot the Data\n",
        "plt.figure(figsize=(9, 4))\n",
        "sns.barplot(x=\"Dividend/Shares\", y=\"Stock Name\", data=top_dividends)\n",
        "plt.title(\"Atribut Stock Name dan Symbol yang memiliki Market Value 5 tertinggi\")\n",
        "plt.show()"
      ],
      "metadata": {
        "colab": {
          "base_uri": "https://localhost:8080/",
          "height": 410
        },
        "id": "acVjG0YSZoOr",
        "outputId": "884c3ba1-3a08-4bd4-8543-cacba959cb05"
      },
      "execution_count": 21,
      "outputs": [
        {
          "output_type": "display_data",
          "data": {
            "text/plain": [
              "<Figure size 900x400 with 1 Axes>"
            ],
            "image/png": "[encoded data removed]"
          },
          "metadata": {}
        }
      ]
    },
    {
      "cell_type": "code",
      "source": [
        "#B\n",
        "#Atribut Stock Name dan Symbol yang memiliki Market Value 5 tertinggi\n",
        "top_market_value = data.nlargest(5, 'Market Value ($)')\n",
        "print('Atribut Stock Name dan Symbol yang memiliki Market Value 5 tertinggi : ')\n",
        "print(top_market_value[['Stock Name', 'Symbol']])"
      ],
      "metadata": {
        "colab": {
          "base_uri": "https://localhost:8080/"
        },
        "id": "tgT9zCo_ZqWm",
        "outputId": "3841db1d-480c-4993-c2b5-26efb120bf26"
      },
      "execution_count": 40,
      "outputs": [
        {
          "output_type": "stream",
          "name": "stdout",
          "text": [
            "Atribut Stock Name dan Symbol yang memiliki Market Value 5 tertinggi : \n",
            "   Stock Name Symbol\n",
            "11   Facebook     FB\n",
            "5    Alphabet   GOOG\n",
            "9      Amazon   AMZN\n",
            "0       Apple   AAPL\n",
            "1   Microsoft   MSFT\n"
          ]
        }
      ]
    },
    {
      "cell_type": "code",
      "source": [
        "top_market_value = data.nlargest(5, 'Market Value ($)')\n",
        "# Plot the data\n",
        "plt.figure(figsize=(9, 4))\n",
        "sns.barplot(x=\"Market Value ($)\", y=\"Stock Name\", data=top_market_value)\n",
        "plt.title(\"Atribut Stock Name dan Symbol yang memiliki Market Value 5 tertinggi \")\n",
        "plt.show()"
      ],
      "metadata": {
        "colab": {
          "base_uri": "https://localhost:8080/",
          "height": 410
        },
        "id": "nefSxIuWZsAq",
        "outputId": "963892a9-9001-4862-a21f-111b52e34dc9"
      },
      "execution_count": 35,
      "outputs": [
        {
          "output_type": "display_data",
          "data": {
            "text/plain": [
              "<Figure size 900x400 with 1 Axes>"
            ],
            "image/png": "[encoded data removed]"
          },
          "metadata": {}
        }
      ]
    },
    {
      "cell_type": "code",
      "source": [
        "#D\n",
        "#Atribut Stock Name dan Symbol yang memiliki Annual Yield 7 tertinggi\n",
        "top_annual_yield = data.nlargest(7, 'Annual Yield (%)')\n",
        "print('Atribut Stock Name dan Symbol yang memiliki Annual Yield 7 tertinggi : ')\n",
        "print(top_annual_yield[['Stock Name', 'Symbol']])"
      ],
      "metadata": {
        "colab": {
          "base_uri": "https://localhost:8080/"
        },
        "id": "dy2zizxVZtvV",
        "outputId": "50ab799c-791a-4dce-d636-9348106f1cff"
      },
      "execution_count": 41,
      "outputs": [
        {
          "output_type": "stream",
          "name": "stdout",
          "text": [
            "Atribut Stock Name dan Symbol yang memiliki Annual Yield 7 tertinggi : \n",
            "                   Stock Name Symbol\n",
            "8                    Qualcomm   QCOM\n",
            "6                       Intel   INTC\n",
            "7                       Cisco   CSCO\n",
            "0                       Apple   AAPL\n",
            "1                   Microsoft   MSFT\n",
            "3                      Oracle   ORCL\n",
            "4  Hewlett Packard Enterprise    HPE\n"
          ]
        }
      ]
    },
    {
      "cell_type": "code",
      "source": [
        "top_annual_yield = data.nlargest(7, 'Annual Yield (%)')\n",
        "# Plot the data\n",
        "plt.figure(figsize=(13, 4))\n",
        "sns.barplot(x=\"Annual Yield (%)\", y=\"Stock Name\", data=top_annual_yield)\n",
        "plt.title(\"Atribut Stock Name dan Symbol yang memiliki Annual Yield 7 tertinggi\")\n",
        "plt.show()"
      ],
      "metadata": {
        "colab": {
          "base_uri": "https://localhost:8080/",
          "height": 410
        },
        "id": "vwDzJcX0Zwhk",
        "outputId": "6ac88f91-82a2-4edc-dd7c-0d1222dc2623"
      },
      "execution_count": 25,
      "outputs": [
        {
          "output_type": "display_data",
          "data": {
            "text/plain": [
              "<Figure size 1300x400 with 1 Axes>"
            ],
            "image/png": "[encoded data removed]"
          },
          "metadata": {}
        }
      ]
    }
  ]
}